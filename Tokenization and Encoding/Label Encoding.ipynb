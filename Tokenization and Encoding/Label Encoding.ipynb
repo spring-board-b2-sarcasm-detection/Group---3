{
 "cells": [
  {
   "cell_type": "code",
   "execution_count": 51,
   "metadata": {
    "colab": {
     "base_uri": "https://localhost:8080/"
    },
    "id": "g_hKXBTH2zt9",
    "outputId": "533c0c7d-cb8a-4165-9fb8-7208714fdbf2"
   },
   "outputs": [
    {
     "name": "stdout",
     "output_type": "stream",
     "text": [
      "Label Encoding - Sample labels:\n",
      "Original: [1 0 0 1 0]\n",
      "Encoded: [1 0 0 1 0]\n"
     ]
    }
   ],
   "source": [
    "# Label encoding the target variable\n",
    "label_encoder = LabelEncoder()\n",
    "train_labels_encoded = label_encoder.fit_transform(train_labels)\n",
    "test_labels_encoded = label_encoder.transform(test_labels)\n",
    "\n",
    "print(\"Label Encoding - Sample labels:\")\n",
    "print(\"Original:\", train_labels[:5].values)\n",
    "print(\"Encoded:\", train_labels_encoded[:5])"
   ]
  },
  {
   "cell_type": "code",
   "execution_count": 52,
   "metadata": {
    "id": "ycVGw5hLobm2"
   },
   "outputs": [],
   "source": [
    "# TF-IDF Vectorization   (FOR ML MODELS)\n",
    "tfidf_vectorizer = TfidfVectorizer(max_features=12000)\n",
    "train_tfidf = tfidf_vectorizer.fit_transform(train_data)\n",
    "test_tfidf = tfidf_vectorizer.transform(test_data)"
   ]
  },
  {
   "cell_type": "code",
   "execution_count": 53,
   "metadata": {
    "colab": {
     "base_uri": "https://localhost:8080/"
    },
    "id": "KrKcFMA-ohX9",
    "outputId": "e0f33821-9ce0-4d11-a08b-0c1122d8cc02"
   },
   "outputs": [
    {
     "name": "stdout",
     "output_type": "stream",
     "text": [
      "Vocabulary Size: 25734\n",
      "(22802, 106)\n",
      "(5701, 106)\n"
     ]
    }
   ],
   "source": [
    "# Tokenization: converting text to sequences of integers   (FOR DL MODELS)\n",
    "tokenizer = Tokenizer()\n",
    "tokenizer.fit_on_texts(train_data)   #updates internal vocabulary based on a list of texts\n",
    "vocab_size = len(tokenizer.word_index) + 1\n",
    "print(\"Vocabulary Size:\", vocab_size)\n",
    "\n",
    "# Convert text to sequences\n",
    "train_sequences = tokenizer.texts_to_sequences(train_data)\n",
    "test_sequences = tokenizer.texts_to_sequences(test_data)\n",
    "\n",
    "# Padding sequences to ensure uniform length\n",
    "max_length = max([len(x) for x in train_sequences])\n",
    "train_padded = pad_sequences(train_sequences, maxlen=max_length, padding='post')\n",
    "test_padded = pad_sequences(test_sequences, maxlen=max_length, padding='post')\n",
    "\n",
    "# Display the shape of the padded sequences\n",
    "print(train_padded.shape)\n",
    "print(test_padded.shape)"
   ]
  }
 ],
 "metadata": {
  "colab": {
   "provenance": []
  },
  "kernelspec": {
   "display_name": "Python 3 (ipykernel)",
   "language": "python",
   "name": "python3"
  },
  "language_info": {
   "codemirror_mode": {
    "name": "ipython",
    "version": 3
   },
   "file_extension": ".py",
   "mimetype": "text/x-python",
   "name": "python",
   "nbconvert_exporter": "python",
   "pygments_lexer": "ipython3",
   "version": "3.11.4"
  }
 },
 "nbformat": 4,
 "nbformat_minor": 1
}
